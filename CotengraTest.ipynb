{
 "cells": [
  {
   "cell_type": "code",
   "execution_count": 1,
   "id": "defb4a62",
   "metadata": {},
   "outputs": [],
   "source": [
    "import cotengra as ctg"
   ]
  },
  {
   "cell_type": "code",
   "execution_count": 6,
   "id": "0f7be63b",
   "metadata": {},
   "outputs": [],
   "source": [
    "circuitfiles = [\"./graphs/qubits/regular_qubit_3_{}_2_{}.mtx\".format(n, s) for n in [96]  for s in range(10)]"
   ]
  },
  {
   "cell_type": "code",
   "execution_count": 7,
   "id": "f95ef2ed",
   "metadata": {
    "scrolled": false
   },
   "outputs": [
    {
     "name": "stdout",
     "output_type": "stream",
     "text": [
      "32.0 6739581847006.0\n",
      "34.0 26483667338934.0\n",
      "34.0 6976390654264.0\n",
      "30.0 5254150222256.0\n",
      "36.0 1197803453734144.0\n",
      "42.0 1.972113740203565e+16\n",
      "45.0 2890697977883724.0\n",
      "30.0 1891402791984.0\n",
      "35.0 53912525148912.0\n",
      "44.0 4.650248798170959e+18\n"
     ]
    }
   ],
   "source": [
    "for fname in circuitfiles:\n",
    "    f = open(fname, 'r')\n",
    "    lines = f.readlines()\n",
    "    nv = int(lines[1].split()[1])\n",
    "    ne = int(lines[1].split()[0])\n",
    "    inputs = [[] for i in range(nv)]\n",
    "    opt = ctg.HyperOptimizer(minimize='flops', max_time=10)\n",
    "    size_dict = {str(i + 1): 2 for i in range(ne)} \n",
    "    for l in lines[2:]:\n",
    "        sl = l.split()\n",
    "        inputs[int(sl[1]) - 1].append(str(sl[0]))\n",
    "    # print(fname)\n",
    "    tree = opt.search(inputs, (), size_dict)\n",
    "    print(tree.contraction_width(), tree.contraction_cost())"
   ]
  },
  {
   "cell_type": "code",
   "execution_count": null,
   "id": "f1beebf4",
   "metadata": {},
   "outputs": [],
   "source": [
    "`"
   ]
  }
 ],
 "metadata": {
  "kernelspec": {
   "display_name": "Python 3 (ipykernel)",
   "language": "python",
   "name": "python3"
  },
  "language_info": {
   "codemirror_mode": {
    "name": "ipython",
    "version": 3
   },
   "file_extension": ".py",
   "mimetype": "text/x-python",
   "name": "python",
   "nbconvert_exporter": "python",
   "pygments_lexer": "ipython3",
   "version": "3.9.7"
  }
 },
 "nbformat": 4,
 "nbformat_minor": 5
}
